{
  "nbformat": 4,
  "nbformat_minor": 0,
  "metadata": {
    "colab": {
      "provenance": [],
      "authorship_tag": "ABX9TyNiP8rheKpJTg3vPnSkwceH",
      "include_colab_link": true
    },
    "kernelspec": {
      "name": "python3",
      "display_name": "Python 3"
    },
    "language_info": {
      "name": "python"
    }
  },
  "cells": [
    {
      "cell_type": "markdown",
      "metadata": {
        "id": "view-in-github",
        "colab_type": "text"
      },
      "source": [
        "<a href=\"https://colab.research.google.com/github/afraAntara/Monte-Carlo-Simulation-to-Find-Value-of-Pi/blob/main/Monte_Carlo_Simulation.ipynb\" target=\"_parent\"><img src=\"https://colab.research.google.com/assets/colab-badge.svg\" alt=\"Open In Colab\"/></a>"
      ]
    },
    {
      "cell_type": "markdown",
      "source": [
        "# Monte Carlo Simulartion of Pi"
      ],
      "metadata": {
        "id": "JUaYr30T04EX"
      }
    },
    {
      "cell_type": "code",
      "source": [
        "import random  # import library\n",
        "Interval = 1000**2  # set value for random points\n",
        "cp = 0  #set the number of points count in circle\n",
        "sp = 0 #set the number of points count in square\n",
        "\n",
        "for i in range(Interval): # start loop to place random points\n",
        "  rand_x = random.uniform(-1,1) #place random x co-ordinate\n",
        "  rand_y = random.uniform(-1,1) #place random y co-ordinate\n",
        "  d = rand_x**2+rand_y**2 # calculate distance between origin and point\n",
        "  if d<=1: #if x^2+y^2 <=1, we increment points count in circle\n",
        "    cp +=1\n",
        "  sp+=1 # the points count in square is increased as it includes all points\n",
        "# calculate the value of pi\n",
        "pi = 4*(cp/sp)\n",
        "\n",
        "#print\n",
        "print(\"Monte Carlo Pi=\", pi)\n",
        "\n"
      ],
      "metadata": {
        "colab": {
          "base_uri": "https://localhost:8080/"
        },
        "id": "TTMQCOyW0zvH",
        "outputId": "f68cac1e-49dc-4876-9945-5f12bd687dee"
      },
      "execution_count": 11,
      "outputs": [
        {
          "output_type": "stream",
          "name": "stdout",
          "text": [
            "Monte Carlo Pi= 3.145044\n"
          ]
        }
      ]
    },
    {
      "cell_type": "code",
      "source": [],
      "metadata": {
        "id": "8Xjcl_zd0_I2"
      },
      "execution_count": null,
      "outputs": []
    }
  ]
}